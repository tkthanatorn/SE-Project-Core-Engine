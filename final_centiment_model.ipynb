{
 "cells": [
  {
   "cell_type": "markdown",
   "id": "2026f1d4-fa67-4dd3-a00e-9d1d74604445",
   "metadata": {},
   "source": [
    "# Centiment"
   ]
  },
  {
   "cell_type": "markdown",
   "id": "46ab87a0-149d-491f-9dd5-e200451ce9ff",
   "metadata": {},
   "source": [
    "## Load dataset"
   ]
  },
  {
   "cell_type": "code",
   "execution_count": 1,
   "id": "f55eefda-b777-47b6-a066-23b45fd5b022",
   "metadata": {},
   "outputs": [],
   "source": [
    "import pandas as %pdb\n",
    "import numpy as np\n",
    "import matplotlib.pyplot as plt"
   ]
  },
  {
   "cell_type": "code",
   "execution_count": 2,
   "id": "67bb3289-2937-4af2-8bbd-3ff5c72cab89",
   "metadata": {},
   "outputs": [
    {
     "name": "stdout",
     "output_type": "stream",
     "text": [
      "<class 'pandas.core.frame.DataFrame'>\n",
      "RangeIndex: 13212 entries, 0 to 13211\n",
      "Data columns (total 2 columns):\n",
      " #   Column     Non-Null Count  Dtype \n",
      "---  ------     --------------  ----- \n",
      " 0   sentence   13212 non-null  object\n",
      " 1   sentiment  13212 non-null  object\n",
      "dtypes: object(2)\n",
      "memory usage: 206.6+ KB\n"
     ]
    }
   ],
   "source": [
    "df = pd.read_csv('./data.csv')\n",
    "df.drop(['Unnamed: 0'], axis=1, inplace=True)\n",
    "df.info()"
   ]
  },
  {
   "cell_type": "code",
   "execution_count": 3,
   "id": "d3e1e7f8-341b-45f5-bb16-6fdff7fedbba",
   "metadata": {},
   "outputs": [
    {
     "data": {
      "text/html": [
       "<div>\n",
       "<style scoped>\n",
       "    .dataframe tbody tr th:only-of-type {\n",
       "        vertical-align: middle;\n",
       "    }\n",
       "\n",
       "    .dataframe tbody tr th {\n",
       "        vertical-align: top;\n",
       "    }\n",
       "\n",
       "    .dataframe thead th {\n",
       "        text-align: right;\n",
       "    }\n",
       "</style>\n",
       "<table border=\"1\" class=\"dataframe\">\n",
       "  <thead>\n",
       "    <tr style=\"text-align: right;\">\n",
       "      <th></th>\n",
       "      <th>sentence</th>\n",
       "      <th>sentiment</th>\n",
       "    </tr>\n",
       "  </thead>\n",
       "  <tbody>\n",
       "    <tr>\n",
       "      <th>0</th>\n",
       "      <td>Glencore blames rivals for creating metals glut</td>\n",
       "      <td>negative</td>\n",
       "    </tr>\n",
       "    <tr>\n",
       "      <th>1</th>\n",
       "      <td>MTG holding small short pos from 5.72 for swing</td>\n",
       "      <td>negative</td>\n",
       "    </tr>\n",
       "    <tr>\n",
       "      <th>2</th>\n",
       "      <td>Operating loss amounted to EUR 0.9 mn in the f...</td>\n",
       "      <td>negative</td>\n",
       "    </tr>\n",
       "    <tr>\n",
       "      <th>3</th>\n",
       "      <td>Operating profits in the half were  0.8 m , do...</td>\n",
       "      <td>negative</td>\n",
       "    </tr>\n",
       "    <tr>\n",
       "      <th>4</th>\n",
       "      <td>With the recent crypto market decline, investo...</td>\n",
       "      <td>negative</td>\n",
       "    </tr>\n",
       "  </tbody>\n",
       "</table>\n",
       "</div>"
      ],
      "text/plain": [
       "                                            sentence sentiment\n",
       "0    Glencore blames rivals for creating metals glut  negative\n",
       "1    MTG holding small short pos from 5.72 for swing  negative\n",
       "2  Operating loss amounted to EUR 0.9 mn in the f...  negative\n",
       "3  Operating profits in the half were  0.8 m , do...  negative\n",
       "4  With the recent crypto market decline, investo...  negative"
      ]
     },
     "execution_count": 3,
     "metadata": {},
     "output_type": "execute_result"
    }
   ],
   "source": [
    "df.head()"
   ]
  },
  {
   "cell_type": "markdown",
   "id": "766f99de-410b-4097-a12d-b933be95a86f",
   "metadata": {},
   "source": [
    "## Preprocessing"
   ]
  },
  {
   "cell_type": "code",
   "execution_count": 4,
   "id": "55173243-0d27-41c3-8754-f10f3f79a011",
   "metadata": {},
   "outputs": [
    {
     "name": "stderr",
     "output_type": "stream",
     "text": [
      "[nltk_data] Downloading package stopwords to\n",
      "[nltk_data]     /home/tkthanatorn/nltk_data...\n",
      "[nltk_data]   Package stopwords is already up-to-date!\n",
      "[nltk_data] Downloading package punkt to\n",
      "[nltk_data]     /home/tkthanatorn/nltk_data...\n",
      "[nltk_data]   Package punkt is already up-to-date!\n"
     ]
    }
   ],
   "source": [
    "import nltk\n",
    "nltk.download(['stopwords', 'punkt'])\n",
    "\n",
    "from nltk.corpus import stopwords\n",
    "from nltk.stem import PorterStemmer\n",
    "from string import punctuation\n",
    "import re"
   ]
  },
  {
   "cell_type": "code",
   "execution_count": 5,
   "id": "bc485f88-6834-4c0a-864b-f3392c8476b9",
   "metadata": {},
   "outputs": [],
   "source": [
    "def preprocessing(data):\n",
    "    # lowercase\n",
    "    data = [item.lower() for item in data]\n",
    "    \n",
    "    # clear punctuation\n",
    "    table = str.maketrans('', '', punctuation)\n",
    "    data = [item.translate(table) for item in data]\n",
    "    data = [re.sub(r'\\d+', 'num', item) for item in data]\n",
    "    \n",
    "    # clear stopwords\n",
    "    stopword = set(stopwords.words('english') + ['\\x03', '.com', 'cryptograph', 'ambcrypto', 'u.today', 'coingape', 'the dialy hodl'])\n",
    "    data = [[word for word in item.split() if word not in stopword] for item in data]\n",
    "    \n",
    "    # stemming\n",
    "    stemmer = PorterStemmer()\n",
    "    data = [' '.join([stemmer.stem(word) for word in item]) for item in data]\n",
    "    return data"
   ]
  },
  {
   "cell_type": "code",
   "execution_count": 6,
   "id": "80cbb408-6964-426a-ad93-e1dcd08f21f8",
   "metadata": {},
   "outputs": [
    {
     "name": "stdout",
     "output_type": "stream",
     "text": [
      "Shape: (13212,), (13212,)\n"
     ]
    },
    {
     "data": {
      "text/plain": [
       "array(['glencor blame rival creat metal glut',\n",
       "       'mtg hold small short po num swing',\n",
       "       'oper loss amount eur num mn first half num compar profit eur num mn first half num',\n",
       "       'oper profit half num num glisten invest brand manag team',\n",
       "       'recent crypto market declin investor becom fear market record fear greed index show remain incred frighten time user cryptocurr',\n",
       "       'decentr financ defi spare recent crypto onslaught crash final put top coin like bitcoin ethereum num alltim high valu also drag defi market',\n",
       "       'onchain sleuth zachxbt struck thread logan paul alleg litani shadi deal within crypto space thread pseudonym detect reveal possibl scam logan paul allegedli involv base transact record',\n",
       "       'starbuck share much num sbux httpstcojlgrprrnumk',\n",
       "       'softwar stop us nsph today num loss trade still hang tight ha',\n",
       "       'af short ap num put work high stochast crossov'], dtype='<U767')"
      ]
     },
     "execution_count": 6,
     "metadata": {},
     "output_type": "execute_result"
    }
   ],
   "source": [
    "x = df['sentence'].to_numpy()\n",
    "y = df['sentiment'].to_numpy()\n",
    "print(f\"Shape: {x.shape}, {y.shape}\")\n",
    "\n",
    "x = preprocessing(x)\n",
    "x = np.array(x, dtype=str)\n",
    "x[:10]"
   ]
  },
  {
   "cell_type": "markdown",
   "id": "4c0a5bdf-697d-4b3f-89fa-b6a0427c6e89",
   "metadata": {},
   "source": [
    "## Feature Engineering & Cross Validation"
   ]
  },
  {
   "cell_type": "code",
   "execution_count": 7,
   "id": "f15ed17a-3916-4951-8503-d7da54d5e92f",
   "metadata": {},
   "outputs": [
    {
     "data": {
      "text/plain": [
       "[<matplotlib.lines.Line2D at 0x7f9d46fb6430>]"
      ]
     },
     "execution_count": 7,
     "metadata": {},
     "output_type": "execute_result"
    },
    {
     "data": {
      "image/png": "[encoded data removed]",
      "text/plain": [
       "<Figure size 1080x504 with 1 Axes>"
      ]
     },
     "metadata": {
      "needs_background": "light"
     },
     "output_type": "display_data"
    }
   ],
   "source": [
    "from sklearn.feature_extraction.text import TfidfVectorizer\n",
    "from sklearn.model_selection import cross_val_score, ShuffleSplit\n",
    "from sklearn.linear_model import LogisticRegression\n",
    "from sklearn.preprocessing import normalize\n",
    "from sklearn.pipeline import Pipeline\n",
    "\n",
    "model = Pipeline([\n",
    "    ('vect', TfidfVectorizer()),\n",
    "    ('clf', LogisticRegression(max_iter=2000, solver='liblinear', C=2.154434690031882))\n",
    "])\n",
    "cv = ShuffleSplit(n_splits=10, test_size=.2, random_state=42)\n",
    "\n",
    "scores = cross_val_score(model, x, y, cv=cv, scoring='accuracy')\n",
    "\n",
    "plt.figure(figsize=(15, 7))\n",
    "plt.plot(range(10), scores)"
   ]
  },
  {
   "cell_type": "markdown",
   "id": "396db887-f3ab-4a61-809e-cdc115fa7f53",
   "metadata": {},
   "source": [
    "## Training & Validation"
   ]
  },
  {
   "cell_type": "code",
   "execution_count": 8,
   "id": "f6d428cf-43e3-4b20-bf93-69d767bb0cf2",
   "metadata": {},
   "outputs": [
    {
     "data": {
      "text/plain": [
       "((10569,), (2643,), (10569,), (2643,))"
      ]
     },
     "execution_count": 8,
     "metadata": {},
     "output_type": "execute_result"
    }
   ],
   "source": [
    "train, test = list(cv.split(x))[8]\n",
    "x_train, x_test, y_train, y_test = x[train], x[test], y[train], y[test]\n",
    "x_train.shape, x_test.shape, y_train.shape, y_test.shape"
   ]
  },
  {
   "cell_type": "code",
   "execution_count": 9,
   "id": "0200ea95-b31b-4e67-b862-2f8061f366d2",
   "metadata": {},
   "outputs": [
    {
     "name": "stdout",
     "output_type": "stream",
     "text": [
      "              precision    recall  f1-score   support\n",
      "\n",
      "    negative       0.72      0.76      0.74       877\n",
      "     neutral       0.70      0.68      0.69       903\n",
      "    positive       0.71      0.70      0.70       863\n",
      "\n",
      "    accuracy                           0.71      2643\n",
      "   macro avg       0.71      0.71      0.71      2643\n",
      "weighted avg       0.71      0.71      0.71      2643\n",
      "\n"
     ]
    }
   ],
   "source": [
    "from sklearn.metrics import classification_report\n",
    "model.fit(x_train, y_train)\n",
    "y_pred = model.predict(x_test)\n",
    "print(classification_report(y_test, y_pred))"
   ]
  },
  {
   "cell_type": "code",
   "execution_count": 10,
   "id": "cab4b5ad-58e4-4af6-b38c-5721830ef45b",
   "metadata": {},
   "outputs": [
    {
     "data": {
      "text/plain": [
       "['centiment_model.pkl']"
      ]
     },
     "execution_count": 10,
     "metadata": {},
     "output_type": "execute_result"
    }
   ],
   "source": [
    "import joblib\n",
    "joblib.dump(model, 'centiment_model.pkl')"
   ]
  },
  {
   "cell_type": "code",
   "execution_count": 11,
   "id": "090d8f71-de98-4060-b00a-170f6ec16e98",
   "metadata": {},
   "outputs": [
    {
     "name": "stdout",
     "output_type": "stream",
     "text": [
      "              precision    recall  f1-score   support\n",
      "\n",
      "    negative       0.72      0.76      0.74       877\n",
      "     neutral       0.70      0.68      0.69       903\n",
      "    positive       0.71      0.70      0.70       863\n",
      "\n",
      "    accuracy                           0.71      2643\n",
      "   macro avg       0.71      0.71      0.71      2643\n",
      "weighted avg       0.71      0.71      0.71      2643\n",
      "\n"
     ]
    }
   ],
   "source": [
    "clf = joblib.load('./centiment_model.pkl')\n",
    "# clf.fit(x_train, y_train)\n",
    "y_pred = clf.predict(x_test)\n",
    "print(classification_report(y_test, y_pred))"
   ]
  },
  {
   "cell_type": "code",
   "execution_count": null,
   "id": "d08c1d3e-b26c-48da-9d9b-424723630c83",
   "metadata": {},
   "outputs": [],
   "source": []
  }
 ],
 "metadata": {
  "kernelspec": {
   "display_name": "Python 3 (ipykernel)",
   "language": "python",
   "name": "python3"
  },
  "language_info": {
   "codemirror_mode": {
    "name": "ipython",
    "version": 3
   },
   "file_extension": ".py",
   "mimetype": "text/x-python",
   "name": "python",
   "nbconvert_exporter": "python",
   "pygments_lexer": "ipython3",
   "version": "3.9.12"
  }
 },
 "nbformat": 4,
 "nbformat_minor": 5
}
